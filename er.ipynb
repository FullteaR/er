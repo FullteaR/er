{
  "nbformat": 4,
  "nbformat_minor": 0,
  "metadata": {
    "colab": {
      "name": "er.ipynb",
      "version": "0.3.2",
      "provenance": [],
      "private_outputs": true,
      "collapsed_sections": [],
      "include_colab_link": true
    },
    "kernelspec": {
      "name": "python3",
      "display_name": "Python 3"
    },
    "accelerator": "GPU"
  },
  "cells": [
    {
      "cell_type": "markdown",
      "metadata": {
        "id": "view-in-github",
        "colab_type": "text"
      },
      "source": [
        "<a href=\"https://colab.research.google.com/github/FullteaOfEEIC/er/blob/master/er.ipynb\" target=\"_parent\"><img src=\"https://colab.research.google.com/assets/colab-badge.svg\" alt=\"Open In Colab\"/></a>"
      ]
    },
    {
      "metadata": {
        "id": "SmMrQUF1obdk",
        "colab_type": "code",
        "colab": {}
      },
      "cell_type": "code",
      "source": [
        "#seq2seq\n",
        "!git clone https://www.github.com/farizrahman4u/recurrentshop.git\n",
        "%cd recurrentshop\n",
        "!python setup.py install\n",
        "!pip install git+https://github.com/farizrahman4u/seq2seq.git\n",
        "from seq2seq.models import SimpleSeq2Seq,AttentionSeq2Seq\n",
        "import keras\n",
        "\n",
        "#mecab\n",
        "!apt install aptitude\n",
        "!apt-get install swig\n",
        "!aptitude install mecab libmecab-dev mecab-ipadic-utf8 git make curl xz-utils file -y\n",
        "!pip install mecab-python3\n",
        "import MeCab\n",
        "%cd\n",
        "!git clone --depth 1 https://github.com/neologd/mecab-ipadic-neologd.git\n",
        "!echo yes | mecab-ipadic-neologd/bin/install-mecab-ipadic-neologd -n\n",
        "\n",
        "!pip install gensim\n",
        "import gensim\n",
        "from gensim.models import word2vec\n",
        "\n",
        "\n",
        "#Google Drive\n",
        "#Notes. Colaboratory may requires you a permission to access Google Drive.\n",
        "from google.colab import drive\n",
        "drive.mount('/content/drive')\n",
        "%cd /content/drive/My\\ Drive/\n",
        "%pwd\n",
        "\n",
        "\n",
        "import numpy as np\n",
        "import matplotlib.pylab as plt\n",
        "import math\n",
        "import re\n",
        "%matplotlib inline\n",
        "import copy"
      ],
      "execution_count": 0,
      "outputs": []
    },
    {
      "metadata": {
        "id": "RYDWqi2w8ieW",
        "colab_type": "code",
        "colab": {}
      },
      "cell_type": "code",
      "source": [
        "!echo `mecab-config --dicdir`\"/mecab-ipadic-neologd\"\n",
        "m=MeCab.Tagger(\"-d  /usr/lib/x86_64-linux-gnu/mecab/dic/mecab-ipadic-neologd  -Owakati\")"
      ],
      "execution_count": 0,
      "outputs": []
    },
    {
      "metadata": {
        "id": "4FufjPsKDhG6",
        "colab_type": "code",
        "colab": {}
      },
      "cell_type": "code",
      "source": [
        "model_wv = word2vec.Word2Vec.load(\"./model/wiki.model\")"
      ],
      "execution_count": 0,
      "outputs": []
    },
    {
      "metadata": {
        "id": "OGQbG5vM9qoT",
        "colab_type": "code",
        "colab": {}
      },
      "cell_type": "code",
      "source": [
        "url=re.compile(r\"http(s)?://([\\w\\-]+\\.)+[\\w\\-]+(\\/[\\w\\- ./?%&=]*)?\")\n",
        "def line2vec(text,length=20):\n",
        "  #記号類\n",
        "  text=re.sub(\"[！!]+\",\"!\",text)\n",
        "  text=re.sub(\"[？?]+\",\"?\",text)\n",
        "  text=re.sub(\"\\d+\",\"0\",text)\n",
        "  text=text.lower()\n",
        "  text=re.sub(\"w+\",\"w\",text)\n",
        "  text=url.sub(\"\",text)\n",
        "  text=text.replace(\"[ファイル]\",\"\")\n",
        "  \n",
        "  #OLK特有の固有名詞、他\n",
        "  text=text.replace(\"olk\",\"オリエンテーリング サークル\")\n",
        "  text=text.replace(\"メンブレ\",\"メンタル ブレイク\")\n",
        "  text=text.replace(\"ブリケ\",\"ストレージ\")\n",
        "  text=re.sub(\"オリエンテーリング|オリエン\",\"オリエンテーリング\",text)\n",
        "  text=text.replace(\"スクショ\",\"スクリーンショット\")\n",
        "  text=text.replace(\"追いコン\",\"追い出し コンパ\")\n",
        "  \n",
        "  #人名#この置換処理は個人情報保護の観点から記載していません。\n",
        "\n",
        "  \n",
        "  \n",
        "  parsed=m.parse(text).strip().split(\" \")\n",
        "  \n",
        "  vector=[model_wv[p] for p in parsed if p in model_wv]\n",
        "  if length:\n",
        "    if length<len(vector):\n",
        "      vector=vector[len(vector)-length::]\n",
        "    else:\n",
        "      for _ in range(length-len(vector)):\n",
        "        vector.append(model_wv[\"。\"])\n",
        "  return vector\n",
        "  \n",
        "def vec2line(vector):\n",
        "  text=\"\"\n",
        "  for v in vector:\n",
        "     text+=model_wv.most_similar( [ v ], [], 1)[0][0]\n",
        "  return text\n",
        "  \n",
        "def inflation(vector):\n",
        "  vector+=np.random.randn(*vector.shape)*0.1\n",
        "  return vector"
      ],
      "execution_count": 0,
      "outputs": []
    },
    {
      "metadata": {
        "id": "AQ7kkzRYI82X",
        "colab_type": "code",
        "colab": {}
      },
      "cell_type": "code",
      "source": [
        "q=[]\n",
        "a=[]\n",
        "with open(\"talk.txt\") as fp:\n",
        "  for line in fp:\n",
        "    name,text=line.split(\"\\t\")\n",
        "    if name==\"\":#個人情報保護の観点から削除しています\n",
        "      a.append(line2vec(text,length=20))\n",
        "    else:\n",
        "      q.append(line2vec(text,length=20)[::-1])\n",
        "q=np.asarray(q)\n",
        "a=np.asarray(a)"
      ],
      "execution_count": 0,
      "outputs": []
    },
    {
      "metadata": {
        "id": "TDLTOBt_UfnH",
        "colab_type": "code",
        "colab": {}
      },
      "cell_type": "code",
      "source": [
        " q.shape"
      ],
      "execution_count": 0,
      "outputs": []
    },
    {
      "metadata": {
        "id": "GTGlxu2pqoUq",
        "colab_type": "code",
        "colab": {}
      },
      "cell_type": "code",
      "source": [
        "a.shape"
      ],
      "execution_count": 0,
      "outputs": []
    },
    {
      "metadata": {
        "id": "yRDFUOV8vs5B",
        "colab_type": "code",
        "colab": {}
      },
      "cell_type": "code",
      "source": [
        "q=q.reshape(-1,20,200)\n",
        "a=a.reshape(-1,20,200)\n",
        "q_origin=copy.deepcopy(q)\n",
        "a_origin=copy.deepcopy(a)\n",
        "\n",
        "for i in range(10):\n",
        "  q=np.vstack((q,inflation(q_origin)))\n",
        "  a=np.vstack((a,inflation(a_origin)))"
      ],
      "execution_count": 0,
      "outputs": []
    },
    {
      "metadata": {
        "id": "M7Y2t5NuHQcQ",
        "colab_type": "code",
        "colab": {}
      },
      "cell_type": "code",
      "source": [
        "model = AttentionSeq2Seq(input_dim=200,input_length=20, output_length=20, output_dim=200)\n",
        "\n",
        "# 学習の設定\n",
        "model.compile(loss='mse', optimizer='Adam')"
      ],
      "execution_count": 0,
      "outputs": []
    },
    {
      "metadata": {
        "id": "ZAGLh2B6NGq2",
        "colab_type": "code",
        "colab": {}
      },
      "cell_type": "code",
      "source": [
        "model.fit(q, a, epochs=200, batch_size=128)\n",
        "model.save(\"er.hdf5\")"
      ],
      "execution_count": 0,
      "outputs": []
    },
    {
      "metadata": {
        "id": "40ykvrIXlVHr",
        "colab_type": "code",
        "colab": {}
      },
      "cell_type": "code",
      "source": [
        "#model.load_weights(\"er.hdf5\")"
      ],
      "execution_count": 0,
      "outputs": []
    },
    {
      "metadata": {
        "id": "M3iSp6q6ui5c",
        "colab_type": "code",
        "colab": {}
      },
      "cell_type": "code",
      "source": [
        "def talk(text):\n",
        "  vector=np.asarray(line2vec(text,length=20)[::-1])\n",
        "  vector=inflation(vector)\n",
        "  vector=vector.reshape(1,20,200)\n",
        "  predict=model.predict(vector,batch_size=132)\n",
        "  return vec2line(predict.reshape(20,200))"
      ],
      "execution_count": 0,
      "outputs": []
    },
    {
      "metadata": {
        "id": "KB7xVg0M3Kfk",
        "colab_type": "code",
        "colab": {}
      },
      "cell_type": "code",
      "source": [
        "talk(\"元気?\")"
      ],
      "execution_count": 0,
      "outputs": []
    }
  ]
}